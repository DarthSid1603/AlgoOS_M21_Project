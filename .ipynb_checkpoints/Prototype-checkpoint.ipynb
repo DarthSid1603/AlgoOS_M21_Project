{
 "cells": [
  {
   "cell_type": "markdown",
   "id": "71e21fa4",
   "metadata": {},
   "source": [
    "# AlgoOS Project\n",
    "\n",
    "## Team 5\n",
    "## Siddharth, Manav, Ishan, Chirag"
   ]
  },
  {
   "cell_type": "code",
   "execution_count": 1,
   "id": "1d795d3f",
   "metadata": {},
   "outputs": [],
   "source": [
    "import os\n",
    "import psutil\n",
    "import numpy as np\n",
    "import pandas as pd"
   ]
  }
 ],
 "metadata": {
  "kernelspec": {
   "display_name": "Python 3",
   "language": "python",
   "name": "python3"
  },
  "language_info": {
   "codemirror_mode": {
    "name": "ipython",
    "version": 3
   },
   "file_extension": ".py",
   "mimetype": "text/x-python",
   "name": "python",
   "nbconvert_exporter": "python",
   "pygments_lexer": "ipython3",
   "version": "3.7.11"
  }
 },
 "nbformat": 4,
 "nbformat_minor": 5
}
