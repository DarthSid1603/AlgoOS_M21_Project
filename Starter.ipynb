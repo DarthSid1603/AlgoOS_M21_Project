{
 "cells": [
  {
   "cell_type": "code",
   "execution_count": 1,
   "id": "0a87a935",
   "metadata": {},
   "outputs": [
    {
     "name": "stderr",
     "output_type": "stream",
     "text": [
      "WARNING:root:imports error \n",
      " You need to install pymongo>=3.9.0 in order to use MongoOutput \n"
     ]
    }
   ],
   "source": [
    "import numpy as np\n",
    "import pandas as pd\n",
    "import os\n",
    "import time\n",
    "import psutil as pu\n",
    "from datetime import datetime\n",
    "import pyRAPL"
   ]
  },
  {
   "cell_type": "code",
   "execution_count": 2,
   "id": "827c1b1b",
   "metadata": {},
   "outputs": [],
   "source": [
    "def info_of_process():\n",
    "    #Empty list to store all process data \n",
    "    process_infos = []\n",
    "    \n",
    "    for proc in pu.process_iter():\n",
    "        proc_info = dict()\n",
    "        #Suggested in documentation to speed up working\n",
    "        with proc.oneshot():\n",
    "            process_id = -100\n",
    "            if proc.pid == 0:\n",
    "                continue\n",
    "            else:\n",
    "                process_id = proc.pid\n",
    "                \n",
    "            proc_info[\"pid\"] = process_id\n",
    "            proc_info[\"ppid\"] = proc.ppid()\n",
    "            proc_info[\"name\"] = proc.name()\n",
    "            proc_info[\"cpu_usage_percent\"] = proc.cpu_percent()\n",
    "            proc_info[\"status\"] = proc.status()\n",
    "            proc_info[\"number_of_threads\"] = proc.num_threads()\n",
    "            \n",
    "            try:\n",
    "                time_of_create = proc.create_time()\n",
    "                time_create = datetime.fromtimestamp(time_of_create)\n",
    "            except OSError:\n",
    "                time_of_create = pu.boot_time()\n",
    "                time_create = datetime.fromtimestamp(time_of_create)\n",
    "                \n",
    "            try:\n",
    "                cores = len(proc.cpu_affinity())\n",
    "            except pu.AccessDenied:\n",
    "                cores = 0\n",
    "            \n",
    "            try:\n",
    "                nice_priority = int(proc.nice())\n",
    "            except pu.AccessDenied:\n",
    "                nice_priority = 0\n",
    "                \n",
    "            try:\n",
    "                memory_usage = proc.memory_full_info().uss\n",
    "            except pu.AccessDenied:\n",
    "                memory_usage = 0\n",
    "                \n",
    "            try:\n",
    "                username = proc.username()\n",
    "            except psutil.AccessDenied:\n",
    "                username = \"Not run at Sudo\"\n",
    "                \n",
    "            proc_info[\"creation_time\"] = time_create\n",
    "            proc_info[\"Cores_of_CPU\"] = cores\n",
    "            proc_info[\"Nice_Priority\"] = nice_priority\n",
    "            proc_info[\"Memory_Used\"] = memory_usage\n",
    "            proc_info[\"UserName\"] = username\n",
    "        \n",
    "        process_infos.append(proc_info)\n",
    "        \n",
    "    return process_infos"
   ]
  },
  {
   "cell_type": "code",
   "execution_count": 3,
   "id": "69ed1a47",
   "metadata": {},
   "outputs": [],
   "source": [
    "process_infos = info_of_process()"
   ]
  }
 ],
 "metadata": {
  "kernelspec": {
   "display_name": "Python 3",
   "language": "python",
   "name": "python3"
  },
  "language_info": {
   "codemirror_mode": {
    "name": "ipython",
    "version": 3
   },
   "file_extension": ".py",
   "mimetype": "text/x-python",
   "name": "python",
   "nbconvert_exporter": "python",
   "pygments_lexer": "ipython3",
   "version": "3.8.10"
  }
 },
 "nbformat": 4,
 "nbformat_minor": 5
}
